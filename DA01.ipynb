{
 "cells": [
  {
   "cell_type": "markdown",
   "metadata": {},
   "source": [
    "# Amruta Kulkarni-20MAI0027\n",
    "Digital Assignment-01\n",
    "\n",
    "In this pandemic situation people prefer mostly shopping online. Datasets of various shopping apps are already avaliable. I did not find any dataset on Nykaa application and also I love shopping on Nykaa and so I decided to make a Nykaa_Review dataset for this Assessment. This dataset includes the brief description as well as reviews of products available on nykaa shopping aaplication. It classifies the customer reviews as positive and negative."
   ]
  },
  {
   "cell_type": "code",
   "execution_count": 1,
   "metadata": {},
   "outputs": [],
   "source": [
    "# Ignore Warnings\n",
    "import warnings\n",
    "warnings.filterwarnings('ignore')"
   ]
  },
  {
   "cell_type": "code",
   "execution_count": 2,
   "metadata": {},
   "outputs": [],
   "source": [
    "# Importing libraries\n",
    "import pandas as pd\n",
    "import numpy as np\n",
    "import matplotlib.pyplot as plt\n",
    "from sklearn.metrics import accuracy_score, recall_score, precision_score, f1_score"
   ]
  },
  {
   "cell_type": "code",
   "execution_count": 3,
   "metadata": {},
   "outputs": [
    {
     "data": {
      "text/html": [
       "<div>\n",
       "<style scoped>\n",
       "    .dataframe tbody tr th:only-of-type {\n",
       "        vertical-align: middle;\n",
       "    }\n",
       "\n",
       "    .dataframe tbody tr th {\n",
       "        vertical-align: top;\n",
       "    }\n",
       "\n",
       "    .dataframe thead th {\n",
       "        text-align: right;\n",
       "    }\n",
       "</style>\n",
       "<table border=\"1\" class=\"dataframe\">\n",
       "  <thead>\n",
       "    <tr style=\"text-align: right;\">\n",
       "      <th></th>\n",
       "      <th>Product_Name</th>\n",
       "      <th>Product_Category</th>\n",
       "      <th>Product_Brand</th>\n",
       "      <th>Customer_Review</th>\n",
       "      <th>Ratings</th>\n",
       "      <th>Label</th>\n",
       "    </tr>\n",
       "  </thead>\n",
       "  <tbody>\n",
       "    <tr>\n",
       "      <th>0</th>\n",
       "      <td>Airpods</td>\n",
       "      <td>Tech accessories</td>\n",
       "      <td>Boat</td>\n",
       "      <td>Sound quality is impressive. Nothing to compla...</td>\n",
       "      <td>4.3</td>\n",
       "      <td>Positive</td>\n",
       "    </tr>\n",
       "    <tr>\n",
       "      <th>1</th>\n",
       "      <td>Lipstick</td>\n",
       "      <td>Makeup</td>\n",
       "      <td>M.A.C</td>\n",
       "      <td>Awesome shade. It will suit all complexions. I...</td>\n",
       "      <td>4.4</td>\n",
       "      <td>Positive</td>\n",
       "    </tr>\n",
       "    <tr>\n",
       "      <th>2</th>\n",
       "      <td>Liquid Foundation</td>\n",
       "      <td>Makeup</td>\n",
       "      <td>Maybelline New York</td>\n",
       "      <td>Most affordable foundation and one of a kind t...</td>\n",
       "      <td>4.4</td>\n",
       "      <td>Positive</td>\n",
       "    </tr>\n",
       "    <tr>\n",
       "      <th>3</th>\n",
       "      <td>Mascara</td>\n",
       "      <td>Makeup</td>\n",
       "      <td>Lakme Eyeconic</td>\n",
       "      <td>It is not waterproof as the company claims. Ne...</td>\n",
       "      <td>3.0</td>\n",
       "      <td>Negative</td>\n",
       "    </tr>\n",
       "    <tr>\n",
       "      <th>4</th>\n",
       "      <td>Bluetooth speaker</td>\n",
       "      <td>Tech accessories</td>\n",
       "      <td>Mivi</td>\n",
       "      <td>It does not work with Notebook. Its amplified ...</td>\n",
       "      <td>1.0</td>\n",
       "      <td>Negative</td>\n",
       "    </tr>\n",
       "    <tr>\n",
       "      <th>5</th>\n",
       "      <td>Charging pad</td>\n",
       "      <td>Tech accessories</td>\n",
       "      <td>Ambrane</td>\n",
       "      <td>Does not work. Tried with my Iphone 8 Plus as ...</td>\n",
       "      <td>2.0</td>\n",
       "      <td>Negative</td>\n",
       "    </tr>\n",
       "    <tr>\n",
       "      <th>6</th>\n",
       "      <td>Nail Polish</td>\n",
       "      <td>Makeup</td>\n",
       "      <td>Faces Canada Splash</td>\n",
       "      <td>This is most subtle and elegant shade you will...</td>\n",
       "      <td>4.3</td>\n",
       "      <td>Positive</td>\n",
       "    </tr>\n",
       "    <tr>\n",
       "      <th>7</th>\n",
       "      <td>Camera</td>\n",
       "      <td>Tech accessories</td>\n",
       "      <td>Fujifilm</td>\n",
       "      <td>Not a great upgrade at all. I have insta 9 too...</td>\n",
       "      <td>2.0</td>\n",
       "      <td>Negative</td>\n",
       "    </tr>\n",
       "    <tr>\n",
       "      <th>8</th>\n",
       "      <td>Sneakers</td>\n",
       "      <td>Footwear</td>\n",
       "      <td>Truffle Collection</td>\n",
       "      <td>Awesome shoe. Super light and great height. Cu...</td>\n",
       "      <td>5.0</td>\n",
       "      <td>Positive</td>\n",
       "    </tr>\n",
       "    <tr>\n",
       "      <th>9</th>\n",
       "      <td>Blush and contour palette</td>\n",
       "      <td>Makeup</td>\n",
       "      <td>Makeup Revolution London</td>\n",
       "      <td>Product is cheap but price is too high.</td>\n",
       "      <td>2.0</td>\n",
       "      <td>Negative</td>\n",
       "    </tr>\n",
       "    <tr>\n",
       "      <th>10</th>\n",
       "      <td>Flats</td>\n",
       "      <td>Footwear</td>\n",
       "      <td>The CAI  store</td>\n",
       "      <td>Simply gorgeous, just loved the fit. It does g...</td>\n",
       "      <td>4.0</td>\n",
       "      <td>Positive</td>\n",
       "    </tr>\n",
       "    <tr>\n",
       "      <th>11</th>\n",
       "      <td>Juttis</td>\n",
       "      <td>Footwear</td>\n",
       "      <td>Holii</td>\n",
       "      <td>This design is really unique and colour is ver...</td>\n",
       "      <td>4.0</td>\n",
       "      <td>Positive</td>\n",
       "    </tr>\n",
       "    <tr>\n",
       "      <th>12</th>\n",
       "      <td>Hair Straightener</td>\n",
       "      <td>Hair</td>\n",
       "      <td>Philips</td>\n",
       "      <td>Totally in love with this , perfect for travel...</td>\n",
       "      <td>4.2</td>\n",
       "      <td>Positive</td>\n",
       "    </tr>\n",
       "    <tr>\n",
       "      <th>13</th>\n",
       "      <td>Hair curler</td>\n",
       "      <td>Hair</td>\n",
       "      <td>Vega</td>\n",
       "      <td>This is a great product for easy curls and at ...</td>\n",
       "      <td>4.2</td>\n",
       "      <td>Positive</td>\n",
       "    </tr>\n",
       "    <tr>\n",
       "      <th>14</th>\n",
       "      <td>Ballet flats</td>\n",
       "      <td>Footwear</td>\n",
       "      <td>Ceriz Siena</td>\n",
       "      <td>Good the same colour that was shown in the pic...</td>\n",
       "      <td>5.0</td>\n",
       "      <td>Positive</td>\n",
       "    </tr>\n",
       "    <tr>\n",
       "      <th>15</th>\n",
       "      <td>Hair Dryer</td>\n",
       "      <td>Hair</td>\n",
       "      <td>Nova NHP-8108</td>\n",
       "      <td>I expected better but this product is not good...</td>\n",
       "      <td>2.0</td>\n",
       "      <td>Negative</td>\n",
       "    </tr>\n",
       "    <tr>\n",
       "      <th>16</th>\n",
       "      <td>Hair serum</td>\n",
       "      <td>Hair</td>\n",
       "      <td>L'Oreal Paris</td>\n",
       "      <td>This is one of the best hair serum I have came...</td>\n",
       "      <td>4.5</td>\n",
       "      <td>Positive</td>\n",
       "    </tr>\n",
       "    <tr>\n",
       "      <th>17</th>\n",
       "      <td>Kurta</td>\n",
       "      <td>Clothing and more</td>\n",
       "      <td>Peter england</td>\n",
       "      <td>Exellent Product. It fits me fine. The materia...</td>\n",
       "      <td>4.0</td>\n",
       "      <td>Positive</td>\n",
       "    </tr>\n",
       "    <tr>\n",
       "      <th>18</th>\n",
       "      <td>Sweatshirt</td>\n",
       "      <td>Clothing and more</td>\n",
       "      <td>ED hardy</td>\n",
       "      <td>Perfect fit. Good one. Fabric is smooth and co...</td>\n",
       "      <td>4.0</td>\n",
       "      <td>Positive</td>\n",
       "    </tr>\n",
       "    <tr>\n",
       "      <th>19</th>\n",
       "      <td>Sunglasses</td>\n",
       "      <td>Clothing and more</td>\n",
       "      <td>Mondano</td>\n",
       "      <td>This sunglasses look fabulous and the quality ...</td>\n",
       "      <td>5.0</td>\n",
       "      <td>Positive</td>\n",
       "    </tr>\n",
       "    <tr>\n",
       "      <th>20</th>\n",
       "      <td>Backpack</td>\n",
       "      <td>Bags</td>\n",
       "      <td>Accessorize london</td>\n",
       "      <td>It does not have those golder chain puller. It...</td>\n",
       "      <td>1.0</td>\n",
       "      <td>Negative</td>\n",
       "    </tr>\n",
       "    <tr>\n",
       "      <th>21</th>\n",
       "      <td>Dress</td>\n",
       "      <td>Clothing and more</td>\n",
       "      <td>Twenty dresses</td>\n",
       "      <td>This is a lovely dress. The fit and material i...</td>\n",
       "      <td>4.0</td>\n",
       "      <td>Positive</td>\n",
       "    </tr>\n",
       "    <tr>\n",
       "      <th>22</th>\n",
       "      <td>Wallet</td>\n",
       "      <td>Bags</td>\n",
       "      <td>Lavie</td>\n",
       "      <td>Handy to use and protective, the card holder s...</td>\n",
       "      <td>4.0</td>\n",
       "      <td>Positive</td>\n",
       "    </tr>\n",
       "    <tr>\n",
       "      <th>23</th>\n",
       "      <td>Bucket bag</td>\n",
       "      <td>Bags</td>\n",
       "      <td>Modern myth</td>\n",
       "      <td>The handle of the bag is not good at all. And ...</td>\n",
       "      <td>2.0</td>\n",
       "      <td>Negative</td>\n",
       "    </tr>\n",
       "    <tr>\n",
       "      <th>24</th>\n",
       "      <td>Clutch</td>\n",
       "      <td>Bags</td>\n",
       "      <td>Lino perros</td>\n",
       "      <td>I have been using this purse over a year. This...</td>\n",
       "      <td>5.0</td>\n",
       "      <td>Positive</td>\n",
       "    </tr>\n",
       "    <tr>\n",
       "      <th>25</th>\n",
       "      <td>Jumpsuit</td>\n",
       "      <td>Clothing and more</td>\n",
       "      <td>Twenty Dresses</td>\n",
       "      <td>Loved this jumpsuit. Ordered size S. Fabric is...</td>\n",
       "      <td>4.5</td>\n",
       "      <td>Positive</td>\n",
       "    </tr>\n",
       "    <tr>\n",
       "      <th>26</th>\n",
       "      <td>Satchel</td>\n",
       "      <td>Bags</td>\n",
       "      <td>Bagsy Malone</td>\n",
       "      <td>Nice stuff. Material of bag is also good. I am...</td>\n",
       "      <td>4.0</td>\n",
       "      <td>Positive</td>\n",
       "    </tr>\n",
       "    <tr>\n",
       "      <th>27</th>\n",
       "      <td>Earings</td>\n",
       "      <td>Jewellery &amp; Accessories</td>\n",
       "      <td>Jewels Galaxy</td>\n",
       "      <td>It is the most beautiful piece I have ordered ...</td>\n",
       "      <td>5.0</td>\n",
       "      <td>Positive</td>\n",
       "    </tr>\n",
       "    <tr>\n",
       "      <th>28</th>\n",
       "      <td>Bangles</td>\n",
       "      <td>Jewellery &amp; Accessories</td>\n",
       "      <td>Voylla</td>\n",
       "      <td>It is lovely pair of bangles. Nice design and ...</td>\n",
       "      <td>4.3</td>\n",
       "      <td>Positive</td>\n",
       "    </tr>\n",
       "    <tr>\n",
       "      <th>29</th>\n",
       "      <td>Deo spray</td>\n",
       "      <td>Fragrance</td>\n",
       "      <td>Nike</td>\n",
       "      <td>The product has a floral scent. It is quite lo...</td>\n",
       "      <td>4.5</td>\n",
       "      <td>Positive</td>\n",
       "    </tr>\n",
       "    <tr>\n",
       "      <th>30</th>\n",
       "      <td>Body spray</td>\n",
       "      <td>Fragrance</td>\n",
       "      <td>Fogg</td>\n",
       "      <td>I gifted this perfume to my brother for rakhi ...</td>\n",
       "      <td>5.0</td>\n",
       "      <td>Positive</td>\n",
       "    </tr>\n",
       "    <tr>\n",
       "      <th>31</th>\n",
       "      <td>Perfume</td>\n",
       "      <td>Fragrance</td>\n",
       "      <td>Masaba</td>\n",
       "      <td>An overpriced product with a very nominal frag...</td>\n",
       "      <td>2.0</td>\n",
       "      <td>Negative</td>\n",
       "    </tr>\n",
       "    <tr>\n",
       "      <th>32</th>\n",
       "      <td>Body spray</td>\n",
       "      <td>Fragrance</td>\n",
       "      <td>Revlon</td>\n",
       "      <td>It has such a sweet pleasant smell. After tryi...</td>\n",
       "      <td>4.5</td>\n",
       "      <td>Positive</td>\n",
       "    </tr>\n",
       "    <tr>\n",
       "      <th>33</th>\n",
       "      <td>Necklace</td>\n",
       "      <td>Jewellery &amp; Accessories</td>\n",
       "      <td>Twenty dresses</td>\n",
       "      <td>The product looks good and I guess the colour ...</td>\n",
       "      <td>5.0</td>\n",
       "      <td>Positive</td>\n",
       "    </tr>\n",
       "    <tr>\n",
       "      <th>34</th>\n",
       "      <td>Ring</td>\n",
       "      <td>Jewellery &amp; Accessories</td>\n",
       "      <td>Voylla</td>\n",
       "      <td>I love voylla. The ring is pretty and classy. ...</td>\n",
       "      <td>3.0</td>\n",
       "      <td>Negative</td>\n",
       "    </tr>\n",
       "    <tr>\n",
       "      <th>35</th>\n",
       "      <td>Body Lotion</td>\n",
       "      <td>Personal Care</td>\n",
       "      <td>MCaffeine</td>\n",
       "      <td>The first thing is the smell which is awesome....</td>\n",
       "      <td>4.0</td>\n",
       "      <td>Positive</td>\n",
       "    </tr>\n",
       "    <tr>\n",
       "      <th>36</th>\n",
       "      <td>Sun block cream</td>\n",
       "      <td>Personal Care</td>\n",
       "      <td>Oshea herbals</td>\n",
       "      <td>This suns cream is best for summer. As it is m...</td>\n",
       "      <td>4.2</td>\n",
       "      <td>Positive</td>\n",
       "    </tr>\n",
       "    <tr>\n",
       "      <th>37</th>\n",
       "      <td>Moisturizer</td>\n",
       "      <td>Personal Care</td>\n",
       "      <td>Olay</td>\n",
       "      <td>Over rated product. This does nothing for me. ...</td>\n",
       "      <td>2.0</td>\n",
       "      <td>Negative</td>\n",
       "    </tr>\n",
       "    <tr>\n",
       "      <th>38</th>\n",
       "      <td>Acne face wash</td>\n",
       "      <td>Personal Care</td>\n",
       "      <td>WOW</td>\n",
       "      <td>I loved it. I used it for one week. I noticed ...</td>\n",
       "      <td>5.0</td>\n",
       "      <td>Positive</td>\n",
       "    </tr>\n",
       "    <tr>\n",
       "      <th>39</th>\n",
       "      <td>Shampoo</td>\n",
       "      <td>Personal Care</td>\n",
       "      <td>L'Oreal Paris</td>\n",
       "      <td>I have oily scalp and dry hair end. This is th...</td>\n",
       "      <td>5.0</td>\n",
       "      <td>Positive</td>\n",
       "    </tr>\n",
       "    <tr>\n",
       "      <th>40</th>\n",
       "      <td>Wedges</td>\n",
       "      <td>Footwear</td>\n",
       "      <td>Ceriz vivien</td>\n",
       "      <td>My first ever wedges. They are really classy. ...</td>\n",
       "      <td>5.0</td>\n",
       "      <td>Positive</td>\n",
       "    </tr>\n",
       "    <tr>\n",
       "      <th>41</th>\n",
       "      <td>Studded Bracelet</td>\n",
       "      <td>Jewellery &amp; Accessories</td>\n",
       "      <td>Jewels Galaxy</td>\n",
       "      <td>It is pretty but definitely not worth the pric...</td>\n",
       "      <td>3.0</td>\n",
       "      <td>Negative</td>\n",
       "    </tr>\n",
       "    <tr>\n",
       "      <th>42</th>\n",
       "      <td>Hair oil</td>\n",
       "      <td>Hair</td>\n",
       "      <td>Mamaearth</td>\n",
       "      <td>I just loved the oil. It reduces my hairfall v...</td>\n",
       "      <td>4.4</td>\n",
       "      <td>Positive</td>\n",
       "    </tr>\n",
       "    <tr>\n",
       "      <th>43</th>\n",
       "      <td>Deodorant</td>\n",
       "      <td>Fragrance</td>\n",
       "      <td>Engage</td>\n",
       "      <td>I have heard about engage products but the sme...</td>\n",
       "      <td>3.0</td>\n",
       "      <td>Negative</td>\n",
       "    </tr>\n",
       "    <tr>\n",
       "      <th>44</th>\n",
       "      <td>Power Bank</td>\n",
       "      <td>Tech accessories</td>\n",
       "      <td>Pebble</td>\n",
       "      <td>Exellent Product. Packaging was good. Does not...</td>\n",
       "      <td>4.0</td>\n",
       "      <td>Positive</td>\n",
       "    </tr>\n",
       "  </tbody>\n",
       "</table>\n",
       "</div>"
      ],
      "text/plain": [
       "                 Product_Name         Product_Category  \\\n",
       "0                     Airpods         Tech accessories   \n",
       "1                    Lipstick                   Makeup   \n",
       "2           Liquid Foundation                   Makeup   \n",
       "3                     Mascara                   Makeup   \n",
       "4           Bluetooth speaker         Tech accessories   \n",
       "5                Charging pad         Tech accessories   \n",
       "6                 Nail Polish                   Makeup   \n",
       "7                     Camera          Tech accessories   \n",
       "8                    Sneakers                 Footwear   \n",
       "9   Blush and contour palette                   Makeup   \n",
       "10                      Flats                 Footwear   \n",
       "11                     Juttis                 Footwear   \n",
       "12          Hair Straightener                     Hair   \n",
       "13                Hair curler                     Hair   \n",
       "14               Ballet flats                 Footwear   \n",
       "15                 Hair Dryer                     Hair   \n",
       "16                 Hair serum                     Hair   \n",
       "17                      Kurta        Clothing and more   \n",
       "18                Sweatshirt         Clothing and more   \n",
       "19                 Sunglasses        Clothing and more   \n",
       "20                   Backpack                     Bags   \n",
       "21                      Dress        Clothing and more   \n",
       "22                    Wallet                      Bags   \n",
       "23                 Bucket bag                     Bags   \n",
       "24                     Clutch                     Bags   \n",
       "25                   Jumpsuit        Clothing and more   \n",
       "26                   Satchel                      Bags   \n",
       "27                    Earings  Jewellery & Accessories   \n",
       "28                    Bangles  Jewellery & Accessories   \n",
       "29                  Deo spray                Fragrance   \n",
       "30                 Body spray                Fragrance   \n",
       "31                    Perfume                Fragrance   \n",
       "32                 Body spray                Fragrance   \n",
       "33                  Necklace   Jewellery & Accessories   \n",
       "34                       Ring  Jewellery & Accessories   \n",
       "35                Body Lotion            Personal Care   \n",
       "36            Sun block cream            Personal Care   \n",
       "37                Moisturizer            Personal Care   \n",
       "38             Acne face wash            Personal Care   \n",
       "39                    Shampoo            Personal Care   \n",
       "40                     Wedges                 Footwear   \n",
       "41           Studded Bracelet  Jewellery & Accessories   \n",
       "42                   Hair oil                     Hair   \n",
       "43                  Deodorant                Fragrance   \n",
       "44                 Power Bank        Tech accessories    \n",
       "\n",
       "               Product_Brand  \\\n",
       "0                       Boat   \n",
       "1                      M.A.C   \n",
       "2        Maybelline New York   \n",
       "3             Lakme Eyeconic   \n",
       "4                       Mivi   \n",
       "5                    Ambrane   \n",
       "6        Faces Canada Splash   \n",
       "7                   Fujifilm   \n",
       "8         Truffle Collection   \n",
       "9   Makeup Revolution London   \n",
       "10            The CAI  store   \n",
       "11                     Holii   \n",
       "12                   Philips   \n",
       "13                      Vega   \n",
       "14               Ceriz Siena   \n",
       "15             Nova NHP-8108   \n",
       "16             L'Oreal Paris   \n",
       "17             Peter england   \n",
       "18                  ED hardy   \n",
       "19                   Mondano   \n",
       "20        Accessorize london   \n",
       "21            Twenty dresses   \n",
       "22                     Lavie   \n",
       "23               Modern myth   \n",
       "24               Lino perros   \n",
       "25            Twenty Dresses   \n",
       "26              Bagsy Malone   \n",
       "27             Jewels Galaxy   \n",
       "28                    Voylla   \n",
       "29                      Nike   \n",
       "30                      Fogg   \n",
       "31                    Masaba   \n",
       "32                    Revlon   \n",
       "33            Twenty dresses   \n",
       "34                    Voylla   \n",
       "35                 MCaffeine   \n",
       "36             Oshea herbals   \n",
       "37                      Olay   \n",
       "38                       WOW   \n",
       "39             L'Oreal Paris   \n",
       "40              Ceriz vivien   \n",
       "41             Jewels Galaxy   \n",
       "42                 Mamaearth   \n",
       "43                    Engage   \n",
       "44                    Pebble   \n",
       "\n",
       "                                      Customer_Review  Ratings     Label  \n",
       "0   Sound quality is impressive. Nothing to compla...      4.3  Positive  \n",
       "1   Awesome shade. It will suit all complexions. I...      4.4  Positive  \n",
       "2   Most affordable foundation and one of a kind t...      4.4  Positive  \n",
       "3   It is not waterproof as the company claims. Ne...      3.0  Negative  \n",
       "4   It does not work with Notebook. Its amplified ...      1.0  Negative  \n",
       "5   Does not work. Tried with my Iphone 8 Plus as ...      2.0  Negative  \n",
       "6   This is most subtle and elegant shade you will...      4.3  Positive  \n",
       "7   Not a great upgrade at all. I have insta 9 too...      2.0  Negative  \n",
       "8   Awesome shoe. Super light and great height. Cu...      5.0  Positive  \n",
       "9             Product is cheap but price is too high.      2.0  Negative  \n",
       "10  Simply gorgeous, just loved the fit. It does g...      4.0  Positive  \n",
       "11  This design is really unique and colour is ver...      4.0  Positive  \n",
       "12  Totally in love with this , perfect for travel...      4.2  Positive  \n",
       "13  This is a great product for easy curls and at ...      4.2  Positive  \n",
       "14  Good the same colour that was shown in the pic...      5.0  Positive  \n",
       "15  I expected better but this product is not good...      2.0  Negative  \n",
       "16  This is one of the best hair serum I have came...      4.5  Positive  \n",
       "17  Exellent Product. It fits me fine. The materia...      4.0  Positive  \n",
       "18  Perfect fit. Good one. Fabric is smooth and co...      4.0  Positive  \n",
       "19  This sunglasses look fabulous and the quality ...      5.0  Positive  \n",
       "20  It does not have those golder chain puller. It...      1.0  Negative  \n",
       "21  This is a lovely dress. The fit and material i...      4.0  Positive  \n",
       "22  Handy to use and protective, the card holder s...      4.0  Positive  \n",
       "23  The handle of the bag is not good at all. And ...      2.0  Negative  \n",
       "24  I have been using this purse over a year. This...      5.0  Positive  \n",
       "25  Loved this jumpsuit. Ordered size S. Fabric is...      4.5  Positive  \n",
       "26  Nice stuff. Material of bag is also good. I am...      4.0  Positive  \n",
       "27  It is the most beautiful piece I have ordered ...      5.0  Positive  \n",
       "28  It is lovely pair of bangles. Nice design and ...      4.3  Positive  \n",
       "29  The product has a floral scent. It is quite lo...      4.5  Positive  \n",
       "30  I gifted this perfume to my brother for rakhi ...      5.0  Positive  \n",
       "31  An overpriced product with a very nominal frag...      2.0  Negative  \n",
       "32  It has such a sweet pleasant smell. After tryi...      4.5  Positive  \n",
       "33  The product looks good and I guess the colour ...      5.0  Positive  \n",
       "34  I love voylla. The ring is pretty and classy. ...      3.0  Negative  \n",
       "35  The first thing is the smell which is awesome....      4.0  Positive  \n",
       "36  This suns cream is best for summer. As it is m...      4.2  Positive  \n",
       "37  Over rated product. This does nothing for me. ...      2.0  Negative  \n",
       "38  I loved it. I used it for one week. I noticed ...      5.0  Positive  \n",
       "39  I have oily scalp and dry hair end. This is th...      5.0  Positive  \n",
       "40  My first ever wedges. They are really classy. ...      5.0  Positive  \n",
       "41  It is pretty but definitely not worth the pric...      3.0  Negative  \n",
       "42  I just loved the oil. It reduces my hairfall v...      4.4  Positive  \n",
       "43  I have heard about engage products but the sme...      3.0  Negative  \n",
       "44  Exellent Product. Packaging was good. Does not...      4.0  Positive  "
      ]
     },
     "execution_count": 3,
     "metadata": {},
     "output_type": "execute_result"
    }
   ],
   "source": [
    "# Loading the Nykaa_Reviews dataset\n",
    "df = pd.read_csv(\"Nykaa_Reviews.csv\")\n",
    "df.head(45)"
   ]
  },
  {
   "cell_type": "code",
   "execution_count": 4,
   "metadata": {},
   "outputs": [
    {
     "data": {
      "text/plain": [
       "(45, 6)"
      ]
     },
     "execution_count": 4,
     "metadata": {},
     "output_type": "execute_result"
    }
   ],
   "source": [
    "# Define the number of columns and rows of dataset\n",
    "df.shape"
   ]
  },
  {
   "cell_type": "code",
   "execution_count": 5,
   "metadata": {},
   "outputs": [
    {
     "data": {
      "text/plain": [
       "<matplotlib.axes._subplots.AxesSubplot at 0x119401fb3a0>"
      ]
     },
     "execution_count": 5,
     "metadata": {},
     "output_type": "execute_result"
    },
    {
     "data": {
      "image/png": "[encoded data removed]",
      "text/plain": [
       "<Figure size 432x288 with 1 Axes>"
      ]
     },
     "metadata": {
      "needs_background": "light"
     },
     "output_type": "display_data"
    }
   ],
   "source": [
    "df['Label'].value_counts().plot(kind='bar')"
   ]
  },
  {
   "cell_type": "code",
   "execution_count": 6,
   "metadata": {},
   "outputs": [
    {
     "name": "stdout",
     "output_type": "stream",
     "text": [
      "<class 'pandas.core.frame.DataFrame'>\n",
      "RangeIndex: 45 entries, 0 to 44\n",
      "Data columns (total 6 columns):\n",
      " #   Column            Non-Null Count  Dtype  \n",
      "---  ------            --------------  -----  \n",
      " 0   Product_Name      45 non-null     object \n",
      " 1   Product_Category  45 non-null     object \n",
      " 2   Product_Brand     45 non-null     object \n",
      " 3   Customer_Review   45 non-null     object \n",
      " 4   Ratings           45 non-null     float64\n",
      " 5   Label             45 non-null     object \n",
      "dtypes: float64(1), object(5)\n",
      "memory usage: 2.2+ KB\n"
     ]
    }
   ],
   "source": [
    "# Detailed Information about data\n",
    "df.info()"
   ]
  },
  {
   "cell_type": "code",
   "execution_count": 7,
   "metadata": {},
   "outputs": [],
   "source": [
    "# Encode label values from Positive to '1' and Negative to '0'\n",
    "df['Label'] = df['Label'].map({'Positive':1, 'Negative':0})"
   ]
  },
  {
   "cell_type": "code",
   "execution_count": 8,
   "metadata": {},
   "outputs": [
    {
     "data": {
      "text/html": [
       "<div>\n",
       "<style scoped>\n",
       "    .dataframe tbody tr th:only-of-type {\n",
       "        vertical-align: middle;\n",
       "    }\n",
       "\n",
       "    .dataframe tbody tr th {\n",
       "        vertical-align: top;\n",
       "    }\n",
       "\n",
       "    .dataframe thead th {\n",
       "        text-align: right;\n",
       "    }\n",
       "</style>\n",
       "<table border=\"1\" class=\"dataframe\">\n",
       "  <thead>\n",
       "    <tr style=\"text-align: right;\">\n",
       "      <th></th>\n",
       "      <th>Product_Name</th>\n",
       "      <th>Product_Category</th>\n",
       "      <th>Product_Brand</th>\n",
       "      <th>Customer_Review</th>\n",
       "      <th>Ratings</th>\n",
       "      <th>Label</th>\n",
       "    </tr>\n",
       "  </thead>\n",
       "  <tbody>\n",
       "    <tr>\n",
       "      <th>0</th>\n",
       "      <td>Airpods</td>\n",
       "      <td>Tech accessories</td>\n",
       "      <td>Boat</td>\n",
       "      <td>Sound quality is impressive. Nothing to compla...</td>\n",
       "      <td>4.3</td>\n",
       "      <td>1</td>\n",
       "    </tr>\n",
       "    <tr>\n",
       "      <th>1</th>\n",
       "      <td>Lipstick</td>\n",
       "      <td>Makeup</td>\n",
       "      <td>M.A.C</td>\n",
       "      <td>Awesome shade. It will suit all complexions. I...</td>\n",
       "      <td>4.4</td>\n",
       "      <td>1</td>\n",
       "    </tr>\n",
       "    <tr>\n",
       "      <th>2</th>\n",
       "      <td>Liquid Foundation</td>\n",
       "      <td>Makeup</td>\n",
       "      <td>Maybelline New York</td>\n",
       "      <td>Most affordable foundation and one of a kind t...</td>\n",
       "      <td>4.4</td>\n",
       "      <td>1</td>\n",
       "    </tr>\n",
       "    <tr>\n",
       "      <th>3</th>\n",
       "      <td>Mascara</td>\n",
       "      <td>Makeup</td>\n",
       "      <td>Lakme Eyeconic</td>\n",
       "      <td>It is not waterproof as the company claims. Ne...</td>\n",
       "      <td>3.0</td>\n",
       "      <td>0</td>\n",
       "    </tr>\n",
       "    <tr>\n",
       "      <th>4</th>\n",
       "      <td>Bluetooth speaker</td>\n",
       "      <td>Tech accessories</td>\n",
       "      <td>Mivi</td>\n",
       "      <td>It does not work with Notebook. Its amplified ...</td>\n",
       "      <td>1.0</td>\n",
       "      <td>0</td>\n",
       "    </tr>\n",
       "  </tbody>\n",
       "</table>\n",
       "</div>"
      ],
      "text/plain": [
       "        Product_Name  Product_Category        Product_Brand  \\\n",
       "0            Airpods  Tech accessories                 Boat   \n",
       "1           Lipstick            Makeup                M.A.C   \n",
       "2  Liquid Foundation            Makeup  Maybelline New York   \n",
       "3            Mascara            Makeup       Lakme Eyeconic   \n",
       "4  Bluetooth speaker  Tech accessories                 Mivi   \n",
       "\n",
       "                                     Customer_Review  Ratings  Label  \n",
       "0  Sound quality is impressive. Nothing to compla...      4.3      1  \n",
       "1  Awesome shade. It will suit all complexions. I...      4.4      1  \n",
       "2  Most affordable foundation and one of a kind t...      4.4      1  \n",
       "3  It is not waterproof as the company claims. Ne...      3.0      0  \n",
       "4  It does not work with Notebook. Its amplified ...      1.0      0  "
      ]
     },
     "execution_count": 8,
     "metadata": {},
     "output_type": "execute_result"
    }
   ],
   "source": [
    "df.head()"
   ]
  },
  {
   "cell_type": "code",
   "execution_count": 9,
   "metadata": {},
   "outputs": [
    {
     "data": {
      "text/plain": [
       "'Sound quality is impressive. Nothing to complain abouut. The carrying case can charge the earbuds upto 3 times to a full charge. Perfect fit inside helmet while riding bike.'"
      ]
     },
     "execution_count": 9,
     "metadata": {},
     "output_type": "execute_result"
    }
   ],
   "source": [
    "df['Customer_Review'][0]"
   ]
  },
  {
   "cell_type": "code",
   "execution_count": 10,
   "metadata": {},
   "outputs": [],
   "source": [
    "# stemming the documents (Customer_Review column)\n",
    "from nltk.stem.snowball import SnowballStemmer\n",
    "snow_stemmer = SnowballStemmer(language = 'english') #Snowball\n",
    "\n",
    "def stemmer_tokenize(text):\n",
    "    return[snow_stemmer.stem(word) for word in text.split()] #stemmer_tokenize()"
   ]
  },
  {
   "cell_type": "code",
   "execution_count": 11,
   "metadata": {},
   "outputs": [
    {
     "data": {
      "text/plain": [
       "['we', 'love', 'coding.', 'henc', 'we', 'keep', 'code', 'and', 'learning.']"
      ]
     },
     "execution_count": 11,
     "metadata": {},
     "output_type": "execute_result"
    }
   ],
   "source": [
    "stemmer_tokenize(\"We love coding. Hence we keep coding and learning.\")"
   ]
  },
  {
   "cell_type": "code",
   "execution_count": 12,
   "metadata": {},
   "outputs": [],
   "source": [
    "# Vectorising the text data\n",
    "from sklearn.feature_extraction.text import TfidfVectorizer #Tfidfvectorizer\n",
    "tfidf = TfidfVectorizer(strip_accents = None, lowercase = False, tokenizer = stemmer_tokenize, use_idf = True)\n",
    "Y = df.Label.values\n",
    "X = tfidf.fit_transform(df.Customer_Review)"
   ]
  },
  {
   "cell_type": "code",
   "execution_count": 13,
   "metadata": {},
   "outputs": [],
   "source": [
    "# Splitting into training and test set\n",
    "from sklearn.model_selection import train_test_split\n",
    "X_train, X_test, Y_train, Y_test = train_test_split(X,Y, test_size = 0.3, random_state=25)"
   ]
  },
  {
   "cell_type": "markdown",
   "metadata": {},
   "source": [
    "# Logistic Regression Classifier"
   ]
  },
  {
   "cell_type": "code",
   "execution_count": 14,
   "metadata": {},
   "outputs": [
    {
     "data": {
      "text/plain": [
       "LogisticRegression()"
      ]
     },
     "execution_count": 14,
     "metadata": {},
     "output_type": "execute_result"
    }
   ],
   "source": [
    "# Call the logistic regression model\n",
    "from sklearn.linear_model import LogisticRegression\n",
    "logit = LogisticRegression()\n",
    "logit.fit(X_train, Y_train)"
   ]
  },
  {
   "cell_type": "code",
   "execution_count": 15,
   "metadata": {},
   "outputs": [],
   "source": [
    "# Compute the predictions or Y hat\n",
    "Y_pred = logit.predict(X_test)"
   ]
  },
  {
   "cell_type": "code",
   "execution_count": 16,
   "metadata": {},
   "outputs": [
    {
     "data": {
      "text/plain": [
       "array([[ 0,  2],\n",
       "       [ 0, 12]], dtype=int64)"
      ]
     },
     "execution_count": 16,
     "metadata": {},
     "output_type": "execute_result"
    }
   ],
   "source": [
    "# Confusion Matrix\n",
    "from sklearn.metrics import confusion_matrix\n",
    "confusion_matrix = confusion_matrix(Y_test, Y_pred)\n",
    "confusion_matrix"
   ]
  },
  {
   "cell_type": "code",
   "execution_count": 17,
   "metadata": {},
   "outputs": [
    {
     "name": "stdout",
     "output_type": "stream",
     "text": [
      "Accuracy Score: 85.71428571428571\n"
     ]
    }
   ],
   "source": [
    "# Print Accuracy score\n",
    "from sklearn.metrics import accuracy_score\n",
    "print(\"Accuracy Score:\", accuracy_score(Y_test, Y_pred)*100)"
   ]
  },
  {
   "cell_type": "code",
   "execution_count": 18,
   "metadata": {},
   "outputs": [
    {
     "name": "stdout",
     "output_type": "stream",
     "text": [
      "              precision    recall  f1-score   support\n",
      "\n",
      "           0       0.00      0.00      0.00         2\n",
      "           1       0.86      1.00      0.92        12\n",
      "\n",
      "    accuracy                           0.86        14\n",
      "   macro avg       0.43      0.50      0.46        14\n",
      "weighted avg       0.73      0.86      0.79        14\n",
      "\n"
     ]
    }
   ],
   "source": [
    "# Classification Report \n",
    "from sklearn.metrics import classification_report\n",
    "report = classification_report(Y_test, Y_pred)\n",
    "print(report)"
   ]
  },
  {
   "cell_type": "markdown",
   "metadata": {},
   "source": [
    "# Navie Bayes Classifier"
   ]
  },
  {
   "cell_type": "code",
   "execution_count": 19,
   "metadata": {},
   "outputs": [
    {
     "data": {
      "text/plain": [
       "GaussianNB()"
      ]
     },
     "execution_count": 19,
     "metadata": {},
     "output_type": "execute_result"
    }
   ],
   "source": [
    "# Calling Naive Bayes Regression model\n",
    "from sklearn.naive_bayes import GaussianNB\n",
    "naive_bayes_classifier = GaussianNB()\n",
    "naive_bayes_classifier.fit(X_train.todense(), Y_train)"
   ]
  },
  {
   "cell_type": "code",
   "execution_count": 20,
   "metadata": {},
   "outputs": [],
   "source": [
    "# Predict on test set.\n",
    "Y_test_pred = naive_bayes_classifier.predict(X_test.todense())"
   ]
  },
  {
   "cell_type": "code",
   "execution_count": 21,
   "metadata": {},
   "outputs": [
    {
     "data": {
      "text/plain": [
       "array([[ 0,  2],\n",
       "       [ 2, 10]], dtype=int64)"
      ]
     },
     "execution_count": 21,
     "metadata": {},
     "output_type": "execute_result"
    }
   ],
   "source": [
    "# Confusion Matrix\n",
    "from sklearn.metrics import confusion_matrix\n",
    "confusion_matrix = confusion_matrix(Y_test, Y_test_pred)\n",
    "confusion_matrix"
   ]
  },
  {
   "cell_type": "code",
   "execution_count": 22,
   "metadata": {},
   "outputs": [
    {
     "name": "stdout",
     "output_type": "stream",
     "text": [
      "Accuracy Score: 71.42857142857143\n"
     ]
    }
   ],
   "source": [
    "# Print Accuracy score\n",
    "from sklearn.metrics import accuracy_score\n",
    "print(\"Accuracy Score:\", accuracy_score(Y_test, Y_test_pred)*100)"
   ]
  },
  {
   "cell_type": "code",
   "execution_count": 23,
   "metadata": {},
   "outputs": [
    {
     "name": "stdout",
     "output_type": "stream",
     "text": [
      "              precision    recall  f1-score   support\n",
      "\n",
      "           0       0.00      0.00      0.00         2\n",
      "           1       0.83      0.83      0.83        12\n",
      "\n",
      "    accuracy                           0.71        14\n",
      "   macro avg       0.42      0.42      0.42        14\n",
      "weighted avg       0.71      0.71      0.71        14\n",
      "\n"
     ]
    }
   ],
   "source": [
    "# Classification Report \n",
    "from sklearn.metrics import classification_report\n",
    "report = classification_report(Y_test, Y_test_pred)\n",
    "print(report)"
   ]
  },
  {
   "cell_type": "markdown",
   "metadata": {},
   "source": [
    "# Conclusion\n",
    "According to the above obtained results, we can say that Logistic Regression model has the best accuracy 85.71% than Naive Bayes Classifier with accuracy 71.42%"
   ]
  }
 ],
 "metadata": {
  "kernelspec": {
   "display_name": "Python 3",
   "language": "python",
   "name": "python3"
  },
  "language_info": {
   "codemirror_mode": {
    "name": "ipython",
    "version": 3
   },
   "file_extension": ".py",
   "mimetype": "text/x-python",
   "name": "python",
   "nbconvert_exporter": "python",
   "pygments_lexer": "ipython3",
   "version": "3.8.3"
  }
 },
 "nbformat": 4,
 "nbformat_minor": 4
}
